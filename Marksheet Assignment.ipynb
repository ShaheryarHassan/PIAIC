{
 "cells": [
  {
   "cell_type": "code",
   "execution_count": null,
   "metadata": {},
   "outputs": [],
   "source": [
    "import csv\n",
    "\n",
    "print(\"* Marksheet Assignment *\")\n",
    "print(\"\\n\")\n",
    "\n",
    "SN = input(\"Please Enter your Name: \")\n",
    "UM = float(input (\"Enter Urdu Marks: \"))\n",
    "PM = float(input (\"Enter Physics Marks: \"))\n",
    "EM = float(input (\"Enter English Marks: \"))\n",
    "CM = float(input (\"Enter Chemistry Marks: \"))\n",
    "MM = float(input (\"Enter Maths Marks: \"))\n",
    "M = (UM+PM+EM+CM+MM)\n",
    "print(\"Your Total Marks are \"+str(M)+\" from 500\")\n",
    "\n",
    "TM = 500\n",
    "OM = UM + PM + EM + CM + MM\n",
    "Per = float((OM*100)/TM)\n",
    "G = \"\"\n",
    "\n",
    "if(Per >= 80):\n",
    "    G = \"A+\"\n",
    "elif(Per >= 70):\n",
    "    G = \"A\"\n",
    "elif(Per >= 60):\n",
    "    G = \"B\"\n",
    "elif(Per >= 50):\n",
    "    G = \"C\"\n",
    "elif(Per >= 40):\n",
    "    G = \"D\"\n",
    "elif(Per >= 30):\n",
    "    G = \"E\"\n",
    "else:\n",
    "    G = \"F\"\n",
    "\n",
    "Result = [SN, UM, PM, EM, CM, MM, OM, TM, (str(Per)+\"%\"), G]\n",
    "header_names = [\"Student Name\", \"Urdu\", \"Physics\", \"English\", \"Chemistry\", \"Maths\", \"Obtained Marks\", \"Total Marks\", \"Percentage\", \"Grade\"]\n",
    "\n",
    "with open(\"marksheet.csv\", \"a\", newline=\"\") as f:\n",
    "    \n",
    "    file_handler = csv.DictWriter(f, fieldnames=header_names)\n",
    "    file_handler.writeheader()\n",
    "    file_handler.writerow({'Student Name' : Result[0], 'Urdu' : Result[1], 'Physics' : Result[2], 'English' : Result[3], 'Chemistry' : Result[4], 'Maths' : Result[5], 'Obtained Marks' : Result[6], 'Total Marks' : Result[7], 'Percentage' : Result[8], 'Grade' : studentResult[9]})\n",
    "\n",
    "print(\"\\n\")\n",
    "print(\"Result Saved in Marksheet.csv\")"
   ]
  }
 ],
 "metadata": {
  "kernelspec": {
   "display_name": "Python 3",
   "language": "python",
   "name": "python3"
  },
  "language_info": {
   "codemirror_mode": {
    "name": "ipython",
    "version": 3
   },
   "file_extension": ".py",
   "mimetype": "text/x-python",
   "name": "python",
   "nbconvert_exporter": "python",
   "pygments_lexer": "ipython3",
   "version": "3.7.3"
  }
 },
 "nbformat": 4,
 "nbformat_minor": 2
}
