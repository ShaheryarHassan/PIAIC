{
 "cells": [
  {
   "cell_type": "code",
   "execution_count": 3,
   "metadata": {},
   "outputs": [
    {
     "name": "stdout",
     "output_type": "stream",
     "text": [
      "Enter Your Text File Name: untitled.txt\n",
      "\n",
      "Number of Words in the File: 3\n",
      "Number of Lines in the File: 6\n",
      "Number of Non-Space Character in the File: 8\n",
      "Number of Spaces in the File: 0\n",
      "Number of Tabs in the File: 0\n",
      "Number of Paragraph in the File: 0\n"
     ]
    }
   ],
   "source": [
    "import os\n",
    "\n",
    "def Count(infile):\n",
    "    file = open(infile, 'r')\n",
    "    Paragraph = 0\n",
    "    Lines = 0\n",
    "    Null = True\n",
    "    for i in file:\n",
    "        if '\\n' in i:\n",
    "            Lines += 1\n",
    "            if len(i) < 2:\n",
    "                Null = True\n",
    "            elif len(i) > 2 and Null is True:\n",
    "                Paragraph = Paragraph + 1\n",
    "                Null = False\n",
    "    file.close()\n",
    "    \n",
    "    print(\"Number of Paragraph in the File:\",str(Paragraph))\n",
    "\n",
    "\n",
    "def Counts(path):\n",
    "    ParseFile = open(path,'r')\n",
    "    Spaces = Tabs = Words = TotalLines = Characters = Special_Characters = 0\n",
    "    Lines = ParseFile.read()\n",
    "    Characters = len(Lines)\n",
    "    Words = len(Lines.split())\n",
    "    TotalLines = Lines.count('\\n') +1\n",
    "    Tabs = len(Lines.split('\\t')) -1\n",
    "    Spaces = len(Lines.split(' ')) -1\n",
    "    Special_Characters = Characters - Spaces - Tabs\n",
    "    ParseFile.close()\n",
    "\n",
    "    \n",
    "    return Spaces, Tabs, TotalLines, Words, Special_Characters\n",
    "    \n",
    "\n",
    "\n",
    "fileNames = list(input (\"Enter Your Text File Name: \").split(','))\n",
    "\n",
    "for File in fileNames:\n",
    "    if os.path.isfile(File) is True:\n",
    "        \n",
    "        Spaces, Tabs, Lines, Words, Special_Characters = Counts(File)\n",
    "\n",
    "        print (\"\\nNumber of Words in the File: \" +str(Words)+ \"\\nNumber of Lines in the File: \" +str(Lines)+ \"\\nNumber of Non-Space Character in the File: \" +str(Special_Characters)+ \"\\nNumber of Spaces in the File: \" +str(Spaces)+ \"\\nNumber of Tabs in the File: \"+str(Tabs)) \n",
    "\n",
    "        Count(File)    \n",
    "    else :\n",
    "        print(\"File With Such Name '\" +File+ \"' Doesn't Exist.\")"
   ]
  },
  {
   "cell_type": "code",
   "execution_count": 4,
   "metadata": {},
   "outputs": [
    {
     "name": "stdout",
     "output_type": "stream",
     "text": [
      "Enter Your HTML File Name: example_html_file.html\n",
      "\n",
      "Starting Tags: {'html': 1, 'head': 1, 'title': 1, 'style': 1, 'body': 1, 'h1': 1, 'p': 3, 'a': 1}\n",
      "\n",
      "Closing Tags: {'title': 1, 'style': 1, 'head': 1, 'h1': 1, 'p': 3, 'a': 1, 'body': 1, 'html': 1}\n"
     ]
    }
   ],
   "source": [
    "from html.parser import HTMLParser\n",
    "\n",
    "DT ={}\n",
    "CDT ={}\n",
    "class HTML(HTMLParser):\n",
    "    \n",
    "    def handle_starttag(self, tag, attrs):\n",
    "        if tag not in DT:\n",
    "            DT[tag] = 1\n",
    "        else:\n",
    "            DT[tag]  +=1    \n",
    "    def display (self):  \n",
    "        print(\"\\nStarting Tags: {}\".format(DT))\n",
    "        print(\"\\nClosing Tags: {}\".format(CDT))\n",
    "    def handle_endtag(self, tag):\n",
    "        if tag not in CDT:\n",
    "            CDT[tag] = 1\n",
    "        else:\n",
    "            CDT[tag]  +=1 \n",
    "        \n",
    "fileNames = list(input (\"Enter Your HTML File Name: \").split(','))\n",
    "\n",
    "for File in fileNames:\n",
    "    if os.path.isfile(File) is True:\n",
    "        parser = HTML()\n",
    "        f = open(File, 'r')\n",
    "        data = f.read()\n",
    "        parser.feed(data)\n",
    "        parser.display() \n",
    "        DT ={}\n",
    "    else :\n",
    "        print(\"File With Such Name '\" +File+ \"' Doesn't Exist.\")"
   ]
  }
 ],
 "metadata": {
  "kernelspec": {
   "display_name": "Python 3",
   "language": "python",
   "name": "python3"
  },
  "language_info": {
   "codemirror_mode": {
    "name": "ipython",
    "version": 3
   },
   "file_extension": ".py",
   "mimetype": "text/x-python",
   "name": "python",
   "nbconvert_exporter": "python",
   "pygments_lexer": "ipython3",
   "version": "3.7.3"
  }
 },
 "nbformat": 4,
 "nbformat_minor": 2
}
