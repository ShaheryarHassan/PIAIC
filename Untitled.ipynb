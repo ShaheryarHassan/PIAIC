{
 "cells": [
  {
   "cell_type": "code",
   "execution_count": 41,
   "metadata": {},
   "outputs": [
    {
     "name": "stdout",
     "output_type": "stream",
     "text": [
      "Enter Value of Radius: 02\n",
      "\n",
      "The Area of Circle With Radius 2.0 is: 12.56636\n"
     ]
    }
   ],
   "source": [
    "# Q1.Calculate Area of a Circle. \n",
    "# Write a Python program which accepts the radius of a circle from the user and compute the area.\n",
    "# Program Console Sample Output \n",
    "# 1:Input Radius: 0.5 \n",
    "# Area of Circle with radius 0.5 is 0.7853981634\n",
    "\n",
    "R = float(input (\"Enter Value of Radius: \"))\n",
    "A = (3.14159*R*R)\n",
    "print(\"\\nThe Area of Circle With Radius \" + str(R) + \" is: \" + str(A)) "
   ]
  },
  {
   "cell_type": "code",
   "execution_count": 44,
   "metadata": {},
   "outputs": [
    {
     "name": "stdout",
     "output_type": "stream",
     "text": [
      "Enter Any Number: -2\n",
      "\n",
      "Negative Number Entered\n"
     ]
    }
   ],
   "source": [
    "# Q2.Check Number either positive, negative or zero\n",
    "# Write a Python program to check if a number is positive, negative or zero\n",
    "# Program Console Sample Output \n",
    "# 1:Enter Number: -1\n",
    "# Negative Number Entered\n",
    "# Program Console Sample Output 2:\n",
    "# Integer: 3\n",
    "# Positive Number Entered\n",
    "# Program Console Sample Output 3:\n",
    "# Integer: 0\n",
    "# Zero Entered\n",
    "\n",
    "Num = float(input (\"Enter Any Number: \"))\n",
    "if Num > 0:\n",
    "   print(\"\\nPositive Number Entered\")\n",
    "elif Num == 0:\n",
    "   print(\"\\nZero Entered\")\n",
    "else:\n",
    "   print(\"\\nNegative Number Entered\")"
   ]
  },
  {
   "cell_type": "code",
   "execution_count": 45,
   "metadata": {},
   "outputs": [
    {
     "name": "stdout",
     "output_type": "stream",
     "text": [
      "Enter a Numerator: 4\n",
      "Enter a Denominator: 2\n",
      "\n",
      "Number 4.0 is Completely Divisible by 2.0\n"
     ]
    }
   ],
   "source": [
    "# Q3.Divisibility Check of two numbers\n",
    "# Write a Python program to check whether a number is completely divisible by another number. Accept two integer values form the user\n",
    "# Program Console Sample Output 1:\n",
    "# Enter numerator: 4\n",
    "# Enter Denominator: 2\n",
    "# Number 4 is Completely divisible by 2 \n",
    "# Program Console Sample Output 2:\n",
    "# Enter numerator: 7\n",
    "# Enter Denominator: 4\n",
    "# Number 7 is not Completely divisible by 4\n",
    "          \n",
    "Num1 = float(input (\"Enter a Numerator: \"))\n",
    "Num2 = float(input (\"Enter a Denominator: \"))\n",
    "\n",
    "if Num1 % Num2 == 0:\n",
    "    print(\"\\nNumber \"+str(Num1)+\" is Completely Divisible by \"+str(Num2))\n",
    "else:\n",
    "    print(\"\\nNumber \"+str(Num1)+\" is Not Completely Divisible by \"+str(Num2))\n",
    "            "
   ]
  },
  {
   "cell_type": "code",
   "execution_count": 40,
   "metadata": {},
   "outputs": [
    {
     "name": "stdout",
     "output_type": "stream",
     "text": [
      "Enter First Date: 12\n",
      "Enter First Month: 12\n",
      "Enter First Year: 2018\n",
      "\n",
      "Enter Second Date: 16\n",
      "Enter Second Month: 12\n",
      "Enter Second Year: 2018\n",
      "\n",
      "First Date: 12/12/2018\n",
      "Second Date: 16/12/2018\n",
      "-4\n"
     ]
    }
   ],
   "source": [
    "# Q4.Days Calculator\n",
    "# Write a Python program to calculate number of days between two dates\n",
    "# Program Console Output:\n",
    "# Enter a date in (dd/mm/yy) format: 12/12/2018\n",
    "# Enter a date in (dd/mm/yy) format: 16/12/2018\n",
    "# There are 4 days in between 12/12/2018 and 16/12/18\n",
    " \n",
    "D1 = int(input(\"Enter First Date: \"))\n",
    "M1 = int(input(\"Enter First Month: \"))\n",
    "Y1 = int(input(\"Enter First Year: \"))\n",
    "\n",
    "D2 = int(input(\"\\nEnter Second Date: \"))\n",
    "M2 = int(input(\"Enter Second Month: \"))\n",
    "Y2 = int(input(\"Enter Second Year: \"))\n",
    "\n",
    "print(\"\\nFirst Date: \"+str(D1)+\"/\"+str(M1)+\"/\"+str(Y1))\n",
    "print(\"Second Date: \"+str(D2)+\"/\"+str(M2)+\"/\"+str(Y2))\n",
    "\n",
    "D = (D1 - D2)*1\n",
    "M = (M1 - M2)*30\n",
    "Y = (Y1 - Y2)*365\n",
    "\n",
    "F = (D+M+Y)\n",
    "print(str(F))"
   ]
  },
  {
   "cell_type": "code",
   "execution_count": 46,
   "metadata": {},
   "outputs": [
    {
     "name": "stdout",
     "output_type": "stream",
     "text": [
      "Enter Value of Radius of a Sphere: 1\n",
      "\n",
      "Volume of the Sphere With Radius 1.0 is: 4.188786666666666\n"
     ]
    }
   ],
   "source": [
    "# Q5.Calculate Volume of a sphere\n",
    "# Write a Python program to get the volume of a sphere, please take the radius as input from user\n",
    "# Program Console Output:\n",
    "# Enter Radius of Sphere: 1\n",
    "# Volume of the Sphere with Radius 1 is 4.18\n",
    "\n",
    "R = float(input (\"Enter Value of Radius of a Sphere: \"))\n",
    "V = (4/3*3.14159*R*R*R)\n",
    "print(\"\\nVolume of the Sphere With Radius \" + str(R) + \" is: \" + str(V)) \n"
   ]
  },
  {
   "cell_type": "code",
   "execution_count": 2,
   "metadata": {},
   "outputs": [
    {
     "name": "stdout",
     "output_type": "stream",
     "text": [
      "Enter String: Hi\n",
      "How Many Copies of String You Need: 4\n",
      "\n",
      "HiHiHiHi\n"
     ]
    }
   ],
   "source": [
    "# Q6.Copy string n times\n",
    "# Write a Python program to get a string which is n (non-negative integer) copies of a given string.\n",
    "# Program Console Output:\n",
    "# Enter String: Hi\n",
    "# How many copies of String you need: 4\n",
    "# 4 Copies of Hi are HiHiHiHi\n",
    "\n",
    "\n",
    "S = input (\"Enter String: \")\n",
    "N = int(input (\"How Many Copies of String You Need: \" ))\n",
    "print(\"\\n\" + S*N)"
   ]
  },
  {
   "cell_type": "code",
   "execution_count": 47,
   "metadata": {},
   "outputs": [
    {
     "name": "stdout",
     "output_type": "stream",
     "text": [
      "Enter Any Number: 99\n",
      "\n",
      "Number 99 is an Odd Number\n"
     ]
    }
   ],
   "source": [
    "# Q7.Check if number is Even or Odd\n",
    "# Write a Python program to find whether a given number (accept from the user) is even or odd, print out an appropriate message to the user\n",
    "# Program Console Output 1:\n",
    "# Enter Number: 44 is Even\n",
    "# Program Console Output 2:\n",
    "# Enter Number: 99 is Odd\n",
    "                \n",
    "Num1 = int(input (\"Enter Any Number: \"))\n",
    "Num2 = 2\n",
    "\n",
    "if Num1 % Num2 == 0:\n",
    "    print(\"\\nNumber \"+str(Num1)+\" is an Even Number\")\n",
    "else:\n",
    "    print(\"\\nNumber \"+str(Num1)+\" is an Odd Number\")                "
   ]
  },
  {
   "cell_type": "code",
   "execution_count": 48,
   "metadata": {},
   "outputs": [
    {
     "name": "stdout",
     "output_type": "stream",
     "text": [
      "Enter a Character: A\n",
      "\n",
      "Letter A is Vowel\n"
     ]
    }
   ],
   "source": [
    "# Q8.Vowel Tester\n",
    "# Write a Python program to test whether a passed letter is a vowel or not\n",
    "# Program Console Output 1:\n",
    "# Enter a character: A\n",
    "# Letter A is Vowel\n",
    "# Program Console Output 2:\n",
    "# Enter a character: e\n",
    "# Letter e is Vowel\n",
    "# Program Console Output 2:\n",
    "# Enter a character: N\n",
    "# Letter N is not Vowel\n",
    "\n",
    "    \n",
    "C = input(\"Enter a Character: \")\n",
    "\n",
    "if (C ==\"A\" or C == \"a\" or C == \"E\" or C ==\"e\" or C == \"I\" or C ==\"i\" or C == \"O\" or C == \"o\" or C==\"U\" or C == \"u\"):\n",
    "    print(\"\\nLetter \"+ str(C) +\" is Vowel\")\n",
    "else:\n",
    "    print(\"\\nLetter \"+ str(C) +\" is Not Vowel\")\n"
   ]
  },
  {
   "cell_type": "code",
   "execution_count": 49,
   "metadata": {},
   "outputs": [
    {
     "name": "stdout",
     "output_type": "stream",
     "text": [
      "Enter Magnitude of Triangle Base: 4\n",
      "Enter Magnitude of Triangle Height: 4\n",
      "\n",
      "Area of a Triangle With Height 4 & Base 4 is: 8.0\n"
     ]
    }
   ],
   "source": [
    "# Q9.Triangle area\n",
    "# Write a Python program that will accept the base and height of a triangle and compute the area\n",
    "# Program Console Sample 1:\n",
    "# Enter Magnitude of Triangle base: 4\n",
    "# Enter Magnitude of Triangle Height: 4\n",
    "# Area of a Triangle with Height 4 and Base 4 is 8\n",
    "            \n",
    "B = int(input (\"Enter Magnitude of Triangle Base: \"))\n",
    "H = int(input (\"Enter Magnitude of Triangle Height: \"))\n",
    "A = (B*H/2)\n",
    "print(\"\\nArea of a Triangle With Height \" + str(H) + \" & Base \"  + str(B) + \" is: \" + str(A)) \n",
    "            "
   ]
  },
  {
   "cell_type": "code",
   "execution_count": 51,
   "metadata": {},
   "outputs": [
    {
     "name": "stdout",
     "output_type": "stream",
     "text": [
      "Enter the Principal Amount: 10000\n",
      "Enter the Rate of Interest: 0.1\n",
      "Enter the Number of Years for Investment: 5\n",
      "\n",
      "Rate of Interest: 16105.100000000006\n"
     ]
    }
   ],
   "source": [
    "# Q10.Calculate Interest\n",
    "# Write a Python program to compute the future value of a specified principal amount, rate of interest, and a number of years\n",
    "# Program Console Sample 1:\n",
    "# Please enter principal amount: 10000\n",
    "# Please Enter Rate of interest in %: 0.1\n",
    "# Enter number of years for investment: 5\n",
    "# After 5 years your principal amount 10000 over an interest rate of 0.1 % will be 16105.1\n",
    "\n",
    "\n",
    "A = float(input(\"Enter the Principal Amount: \"))\n",
    "R = float(input(\"Enter the Rate of Interest: \"))\n",
    "T = float(input(\"Enter the Number of Years for Investment: \"))\n",
    "\n",
    "Simple_Interest = A* (pow((1 + R*100 / 100), T))\n",
    "#Simple_Interest=(A*R*T)/100\n",
    "print(\"\\nRate of Interest:\",Simple_Interest)"
   ]
  },
  {
   "cell_type": "code",
   "execution_count": 52,
   "metadata": {},
   "outputs": [
    {
     "name": "stdout",
     "output_type": "stream",
     "text": [
      "Enter Value of X1: 2\n",
      "Enter Value of X2: 4\n",
      "Enter Value of Y1: 4\n",
      "Enter Value of Y2: 4\n",
      "\n",
      "Distance Between Points (2,4) & (4,4) 2.0\n"
     ]
    }
   ],
   "source": [
    "# Q11.Euclidean distance\n",
    "# Write a Python program to compute the distance between the points (x1, y1) and (x2, y2).\n",
    "# Program Console Sample 1:\n",
    "# Enter Co-ordinate for x1: 2   ||   Enter Co-ordinate for x2: 4\n",
    "# Enter Co-ordinate for y1: 4   ||   Enter Co-ordinate for y2: 4\n",
    "# Distance between points (2, 4) and (4, 4) is 2\n",
    "                    \n",
    "    \n",
    "x1 = int(input (\"Enter Value of X1: \"))\n",
    "x2 = int(input (\"Enter Value of X2: \"))\n",
    "y1 = int(input (\"Enter Value of Y1: \"))\n",
    "y2 = int(input (\"Enter Value of Y2: \"))\n",
    "\n",
    "D = ((x2-x1)**2+(y2-y1)**2)*(0.5)\n",
    "print(\"\\nDistance Between Points \" \"(\" + str(x1) + \",\" + str(x2) + \")\" \" & \" \"(\" + str(y1) + \",\" + str(y2) + \") \" + str(D)) \n",
    "                \n",
    "    "
   ]
  },
  {
   "cell_type": "code",
   "execution_count": 53,
   "metadata": {},
   "outputs": [
    {
     "name": "stdout",
     "output_type": "stream",
     "text": [
      "Enter Height in Feet: 5\n",
      "\n",
      "There are 152.4 in 5 ft \n"
     ]
    }
   ],
   "source": [
    "# Q12.Feet to Centimeter Converter\n",
    "# Write a Python program to convert height in feet to centimetres.\n",
    "# Program Console Sample 1:\n",
    "# Enter Height in Feet: 5\n",
    "# There are 152.4 Cm in 5 ft\n",
    "        \n",
    "H = int(input (\"Enter Height in Feet: \"))\n",
    "C = (H)*(30.48)\n",
    "print(\"\\nThere are \" + str(C) + \" in \"  + str(H) + \" ft \") \n",
    "\n"
   ]
  },
  {
   "cell_type": "code",
   "execution_count": 54,
   "metadata": {},
   "outputs": [
    {
     "name": "stdout",
     "output_type": "stream",
     "text": [
      "Enter Height in Cm: 180\n",
      "Enter Weight in Kg: 75\n",
      "\n",
      "Your BMI is 23.148148148148145\n"
     ]
    }
   ],
   "source": [
    "# Q13.BMI Calculator\n",
    "# Write a Python program to calculate body mass index\n",
    "# Program Console Sample 1:\n",
    "# Enter Height in Cm:180\n",
    "# Enter Weight in Kg: 75\n",
    "# Your BMI is 23.15\n",
    "\n",
    "H = float(input (\"Enter Height in Cm: \"))\n",
    "W = int(input (\"Enter Weight in Kg: \"))\n",
    "M = H*0.01\n",
    "B = (W)/(M)**2\n",
    "print(\"\\nYour BMI is \" + str(B)) \n",
    "\n"
   ]
  },
  {
   "cell_type": "code",
   "execution_count": 55,
   "metadata": {},
   "outputs": [
    {
     "name": "stdout",
     "output_type": "stream",
     "text": [
      "Enter a Number: 5\n",
      "\n",
      "Sum of n Positive Integers Till 5 is 15.0\n"
     ]
    }
   ],
   "source": [
    "# Q14.Sum of n Positive Integers\n",
    "# Write a python program to sum of the first n positive integers\n",
    "# Program Console Sample 1:\n",
    "# Enter value of n: 5\n",
    "# Sum of n Positive integers till 5 is 15\n",
    "\n",
    "n = int(input(\"Enter a Number: \"))\n",
    "S = (n * (n + 1)) / 2\n",
    "print(\"\\nSum of n Positive Integers Till \" + str(n) + \" is \" + str(S)) \n"
   ]
  },
  {
   "cell_type": "code",
   "execution_count": 56,
   "metadata": {},
   "outputs": [
    {
     "name": "stdout",
     "output_type": "stream",
     "text": [
      "Enter a Number: 15\n",
      "\n",
      "Sum: 6\n"
     ]
    }
   ],
   "source": [
    "# Q15.Digits Sum of a Number\n",
    "# Write a Python program to calculate the sum of the digits in an integer\n",
    "# Program Console Sample 1:\n",
    "# Enter a number: 15\n",
    "# Sum of 1 + 5 is 6\n",
    "# Program Console Sample 2:\n",
    "# Enter a number: 1234\n",
    "# Sum of 1 + 2 + 3 + 4 is 10\n",
    "                \n",
    "    \n",
    "N = int(input(\"Enter a Number: \"))\n",
    "T = 0\n",
    "\n",
    "while(N>0):\n",
    "    D=N%10\n",
    "    T=T+D\n",
    "    N=N//10\n",
    "\n",
    "print(\"\\nSum:\",T)                "
   ]
  },
  {
   "cell_type": "code",
   "execution_count": 24,
   "metadata": {},
   "outputs": [
    {
     "name": "stdout",
     "output_type": "stream",
     "text": [
      "Enter a Decimal Number: 5\n",
      "101"
     ]
    }
   ],
   "source": [
    "# Q16.Decimal to Binary Converter\n",
    "# Write a Python program to convert an decimal integer to binary\n",
    "# Program Console Sample 1:\n",
    "# Enter a decimal number: 5\n",
    "# Binary Representation of 5 is 101\n",
    "# Program Console Sample 2:\n",
    "# Enter a decimal number: 32\n",
    "# Binary Representation of 32 is 100000\n",
    "\n",
    "def decimalToBinary(num):\n",
    "    if num > 1:\n",
    "        decimalToBinary(num//2)\n",
    "    print(num % 2, end='')\n",
    "\n",
    "number = int(input(\"Enter a Decimal Number: \"))\n",
    "decimalToBinary(number)\n"
   ]
  },
  {
   "cell_type": "code",
   "execution_count": 20,
   "metadata": {},
   "outputs": [
    {
     "name": "stdout",
     "output_type": "stream",
     "text": [
      "Enter a Binary Number: 1001\n",
      "\n",
      "Decimal Representation of 1001 is 9\n"
     ]
    }
   ],
   "source": [
    "# Q17.Binary to Decimal Converter\n",
    "# Write a program to convert binary number to Decimal number\n",
    "# Program Console Sample 1:\n",
    "# Enter a Binary number: 1101\n",
    "# Decimal Representation of 1101 is 13\n",
    "# Program Console Sample 2:\n",
    "# Enter a Binary number: 1001\n",
    "# Decimal Representation of 1001 is 9\n",
    "                \n",
    "\n",
    "B = input(\"Enter a Binary Number: \");\n",
    "if B == 'x':\n",
    "    exit();\n",
    "else:\n",
    "    D = int(B, 2);\n",
    "    print(\"\\nDecimal Representation of \"+B,\"is\",D);"
   ]
  },
  {
   "cell_type": "code",
   "execution_count": 57,
   "metadata": {},
   "outputs": [
    {
     "name": "stdout",
     "output_type": "stream",
     "text": [
      "Enter Text: a\n",
      "\n",
      "Vowels=  1\n",
      "\n",
      "Consonants=  0\n"
     ]
    }
   ],
   "source": [
    "# Q18.Vowel and Consonants Counter\n",
    "# Input a text and count the occurrences of vowels and consonant\n",
    "# Program Console Sample 1:\n",
    "# Enter text: QuickBrownFoxJumpsovertheDog\n",
    "# Vowels: 9\n",
    "# Consonants: 19\n",
    "\n",
    "a = input(\"Enter Text: \")\n",
    "Vowels = 0\n",
    "Consonants = 0\n",
    "\n",
    "for i in a:\n",
    "    if(i == 'a' or i == 'e' or i == 'i' or i == 'o' or i == 'u' or i == 'A' or i == 'E' or i == 'I' or i == 'O' or i == 'U'):\n",
    "        Vowels = Vowels + 1\n",
    "    else:\n",
    "        Consonants = Consonants + 1\n",
    " \n",
    "print(\"\\nVowels= \", Vowels)\n",
    "print(\"\\nConsonants= \", Consonants)"
   ]
  },
  {
   "cell_type": "code",
   "execution_count": 58,
   "metadata": {},
   "outputs": [
    {
     "name": "stdout",
     "output_type": "stream",
     "text": [
      "Enter Text: Hello\n",
      "\n",
      "Text Hello is Not a Palindrome\n"
     ]
    }
   ],
   "source": [
    "# Q19.Palindrome tester\n",
    "# Write a program to check whether given input is palindrome or not\n",
    "# Program Console Sample 1:\n",
    "# Enter text: AHA\n",
    "# Text AHA is Palindrome\n",
    "# Program Console Sample 2:\n",
    "# Enter text: Hello\n",
    "# Text Hello is not a Palindrome\n",
    "\n",
    "P = input(\"Enter Text: \")\n",
    "if(P == P[::-1]):\n",
    "      print(\"\\nText \" + P + \" is Palindrome\")\n",
    "else:\n",
    "      print(\"\\nText \" + P + \" is Not a Palindrome\")"
   ]
  },
  {
   "cell_type": "code",
   "execution_count": 39,
   "metadata": {},
   "outputs": [
    {
     "name": "stdout",
     "output_type": "stream",
     "text": [
      "Enter Text: Python 3.2\n",
      "\n",
      "Numbers:  2\n",
      "Alphabets:  6\n",
      "Special Characters:  1\n",
      "Spaces:  1\n"
     ]
    }
   ],
   "source": [
    "# Q20.Count Alphabets, Numbers and Special Characters\n",
    "# Write a Python program that accepts a string and calculate the number of digits and letters\n",
    "# Program Console Sample 1:\n",
    "# Enter text: Python 3.2\n",
    "# Numbers = 2\n",
    "# Alphabets = 6\n",
    "# Special Characters = 1\n",
    "# Spaces = 1\n",
    "\n",
    "A = input(\"Enter Text: \")\n",
    "\n",
    "N  = sum(c.isdigit() for c in A)\n",
    "W  = sum(c.isalpha() for c in A)\n",
    "S  = sum(c.isspace() for c in A)\n",
    "O  = len(A) - N - W - S\n",
    "\n",
    "print(\"\\nNumbers: \", N)\n",
    "print(\"Alphabets: \", W)\n",
    "print(\"Special Characters: \", O)\n",
    "print(\"Spaces: \", S)\n"
   ]
  },
  {
   "cell_type": "code",
   "execution_count": 66,
   "metadata": {},
   "outputs": [
    {
     "name": "stdout",
     "output_type": "stream",
     "text": [
      "\n",
      "* \n",
      "* * \n",
      "* * * \n",
      "* * * * \n",
      "* * * * * \n",
      "* * * * \n",
      "* * * \n",
      "* * \n",
      "* \n"
     ]
    }
   ],
   "source": [
    "# Q21.Write a Python program to construct the following pattern\n",
    "# * \n",
    "# * * \n",
    "# * * * \n",
    "# * * * * \n",
    "# * * * * * \n",
    "# * * * * \n",
    "# * * * \n",
    "# * * \n",
    "# *\n",
    "\n",
    "\n",
    "N=5;\n",
    "for i in range(N):\n",
    "    for j in range(i):\n",
    "        print ('* ', end=\"\")\n",
    "    print('')\n",
    "\n",
    "for i in range(N,0,-1):\n",
    "    for j in range(i):\n",
    "        print('* ', end=\"\")\n",
    "    print('')"
   ]
  },
  {
   "cell_type": "code",
   "execution_count": 25,
   "metadata": {},
   "outputs": [
    {
     "name": "stdout",
     "output_type": "stream",
     "text": [
      "\n",
      "1 \n",
      "1 2 \n",
      "1 2 3 \n",
      "1 2 3 4 \n",
      "1 2 3 4 5 \n",
      "1 2 3 4 \n",
      "1 2 3 \n",
      "1 2 \n",
      "1 \n"
     ]
    }
   ],
   "source": [
    "# Q22.Write a Python program to construct the following pattern\n",
    "# 1 \n",
    "# 1 2 \n",
    "# 1 2 3 \n",
    "# 1 2 3 4 \n",
    "# 1 2 3 4 5 \n",
    "# 1 2 3 4 \n",
    "# 1 2 3 \n",
    "# 1 2\n",
    "# 1\n",
    "\n",
    "n=5;\n",
    "\n",
    "for a in range(n):\n",
    "    for b in range(a):\n",
    "        print (b+1, end=\" \")\n",
    "    print('')\n",
    "\n",
    "for a in range(n,0,-1):\n",
    "    for b in range(a):\n",
    "        print(b+1, end=\" \")\n",
    "    print('')    "
   ]
  },
  {
   "cell_type": "code",
   "execution_count": 60,
   "metadata": {},
   "outputs": [
    {
     "name": "stdout",
     "output_type": "stream",
     "text": [
      "\n",
      "1\n",
      "22\n",
      "333\n",
      "4444\n",
      "55555\n",
      "666666\n",
      "7777777\n",
      "88888888\n",
      "999999999\n"
     ]
    }
   ],
   "source": [
    "# Q23.Write a Python program to construct the following pattern\n",
    "# 1\n",
    "# 22\n",
    "# 333\n",
    "# 4444\n",
    "# 55555\n",
    "# 666666\n",
    "# 7777777\n",
    "# 88888888\n",
    "# 999999999\n",
    "\n",
    "for i in range(10):\n",
    "    print(str(i) * i)\n",
    "    "
   ]
  }
 ],
 "metadata": {
  "kernelspec": {
   "display_name": "Python 3",
   "language": "python",
   "name": "python3"
  },
  "language_info": {
   "codemirror_mode": {
    "name": "ipython",
    "version": 3
   },
   "file_extension": ".py",
   "mimetype": "text/x-python",
   "name": "python",
   "nbconvert_exporter": "python",
   "pygments_lexer": "ipython3",
   "version": "3.7.3"
  }
 },
 "nbformat": 4,
 "nbformat_minor": 2
}
